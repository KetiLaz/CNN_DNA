{
  "cells": [
    {
      "cell_type": "markdown",
      "metadata": {
        "id": "view-in-github",
        "colab_type": "text"
      },
      "source": [
        "<a href=\"https://colab.research.google.com/github/KetiLaz/CNN_DNA/blob/main/CNN.ipynb\" target=\"_parent\"><img src=\"https://colab.research.google.com/assets/colab-badge.svg\" alt=\"Open In Colab\"/></a>"
      ]
    },
    {
      "cell_type": "code",
      "source": [
        "import pandas as pd\n",
        "import numpy as np\n",
        "\n",
        "import matplotlib.pyplot as plt\n",
        "%matplotlib inline\n",
        "import seaborn as sns\n",
        "from IPython.display import Image\n",
        "sns.set()\n",
        "\n",
        "import tensorflow as tf\n",
        "from tensorflow import keras\n",
        "from sklearn.model_selection import train_test_split\n",
        "from tensorflow.keras.preprocessing.sequence import pad_sequences\n",
        "from tensorflow.keras.utils import to_categorical\n",
        "import keras.utils"
      ],
      "metadata": {
        "id": "JPIHjM4yL0p2"
      },
      "execution_count": 19,
      "outputs": []
    },
    {
      "cell_type": "code",
      "source": [
        "#Import the data\n",
        "data = pd.read_table(\"/content/human_data.txt\")\n",
        "data.head()"
      ],
      "metadata": {
        "id": "nhDdmVv6N4tB",
        "colab": {
          "base_uri": "https://localhost:8080/",
          "height": 204
        },
        "outputId": "cb6e8f66-2cc8-493b-ef25-17e7a5382db0"
      },
      "execution_count": 20,
      "outputs": [
        {
          "output_type": "execute_result",
          "data": {
            "text/plain": [
              "                                            sequence  class\n",
              "0  ATGCCCCAACTAAATACTACCGTATGGCCCACCATAATTACCCCCA...      4\n",
              "1  ATGAACGAAAATCTGTTCGCTTCATTCATTGCCCCCACAATCCTAG...      4\n",
              "2  ATGTGTGGCATTTGGGCGCTGTTTGGCAGTGATGATTGCCTTTCTG...      3\n",
              "3  ATGTGTGGCATTTGGGCGCTGTTTGGCAGTGATGATTGCCTTTCTG...      3\n",
              "4  ATGCAACAGCATTTTGAATTTGAATACCAGACCAAAGTGGATGGTG...      3"
            ],
            "text/html": [
              "\n",
              "  <div id=\"df-c8611d88-29a1-40cf-ae35-449d28b46063\" class=\"colab-df-container\">\n",
              "    <div>\n",
              "<style scoped>\n",
              "    .dataframe tbody tr th:only-of-type {\n",
              "        vertical-align: middle;\n",
              "    }\n",
              "\n",
              "    .dataframe tbody tr th {\n",
              "        vertical-align: top;\n",
              "    }\n",
              "\n",
              "    .dataframe thead th {\n",
              "        text-align: right;\n",
              "    }\n",
              "</style>\n",
              "<table border=\"1\" class=\"dataframe\">\n",
              "  <thead>\n",
              "    <tr style=\"text-align: right;\">\n",
              "      <th></th>\n",
              "      <th>sequence</th>\n",
              "      <th>class</th>\n",
              "    </tr>\n",
              "  </thead>\n",
              "  <tbody>\n",
              "    <tr>\n",
              "      <th>0</th>\n",
              "      <td>ATGCCCCAACTAAATACTACCGTATGGCCCACCATAATTACCCCCA...</td>\n",
              "      <td>4</td>\n",
              "    </tr>\n",
              "    <tr>\n",
              "      <th>1</th>\n",
              "      <td>ATGAACGAAAATCTGTTCGCTTCATTCATTGCCCCCACAATCCTAG...</td>\n",
              "      <td>4</td>\n",
              "    </tr>\n",
              "    <tr>\n",
              "      <th>2</th>\n",
              "      <td>ATGTGTGGCATTTGGGCGCTGTTTGGCAGTGATGATTGCCTTTCTG...</td>\n",
              "      <td>3</td>\n",
              "    </tr>\n",
              "    <tr>\n",
              "      <th>3</th>\n",
              "      <td>ATGTGTGGCATTTGGGCGCTGTTTGGCAGTGATGATTGCCTTTCTG...</td>\n",
              "      <td>3</td>\n",
              "    </tr>\n",
              "    <tr>\n",
              "      <th>4</th>\n",
              "      <td>ATGCAACAGCATTTTGAATTTGAATACCAGACCAAAGTGGATGGTG...</td>\n",
              "      <td>3</td>\n",
              "    </tr>\n",
              "  </tbody>\n",
              "</table>\n",
              "</div>\n",
              "    <div class=\"colab-df-buttons\">\n",
              "\n",
              "  <div class=\"colab-df-container\">\n",
              "    <button class=\"colab-df-convert\" onclick=\"convertToInteractive('df-c8611d88-29a1-40cf-ae35-449d28b46063')\"\n",
              "            title=\"Convert this dataframe to an interactive table.\"\n",
              "            style=\"display:none;\">\n",
              "\n",
              "  <svg xmlns=\"http://www.w3.org/2000/svg\" height=\"24px\" viewBox=\"0 -960 960 960\">\n",
              "    <path d=\"M120-120v-720h720v720H120Zm60-500h600v-160H180v160Zm220 220h160v-160H400v160Zm0 220h160v-160H400v160ZM180-400h160v-160H180v160Zm440 0h160v-160H620v160ZM180-180h160v-160H180v160Zm440 0h160v-160H620v160Z\"/>\n",
              "  </svg>\n",
              "    </button>\n",
              "\n",
              "  <style>\n",
              "    .colab-df-container {\n",
              "      display:flex;\n",
              "      gap: 12px;\n",
              "    }\n",
              "\n",
              "    .colab-df-convert {\n",
              "      background-color: #E8F0FE;\n",
              "      border: none;\n",
              "      border-radius: 50%;\n",
              "      cursor: pointer;\n",
              "      display: none;\n",
              "      fill: #1967D2;\n",
              "      height: 32px;\n",
              "      padding: 0 0 0 0;\n",
              "      width: 32px;\n",
              "    }\n",
              "\n",
              "    .colab-df-convert:hover {\n",
              "      background-color: #E2EBFA;\n",
              "      box-shadow: 0px 1px 2px rgba(60, 64, 67, 0.3), 0px 1px 3px 1px rgba(60, 64, 67, 0.15);\n",
              "      fill: #174EA6;\n",
              "    }\n",
              "\n",
              "    .colab-df-buttons div {\n",
              "      margin-bottom: 4px;\n",
              "    }\n",
              "\n",
              "    [theme=dark] .colab-df-convert {\n",
              "      background-color: #3B4455;\n",
              "      fill: #D2E3FC;\n",
              "    }\n",
              "\n",
              "    [theme=dark] .colab-df-convert:hover {\n",
              "      background-color: #434B5C;\n",
              "      box-shadow: 0px 1px 3px 1px rgba(0, 0, 0, 0.15);\n",
              "      filter: drop-shadow(0px 1px 2px rgba(0, 0, 0, 0.3));\n",
              "      fill: #FFFFFF;\n",
              "    }\n",
              "  </style>\n",
              "\n",
              "    <script>\n",
              "      const buttonEl =\n",
              "        document.querySelector('#df-c8611d88-29a1-40cf-ae35-449d28b46063 button.colab-df-convert');\n",
              "      buttonEl.style.display =\n",
              "        google.colab.kernel.accessAllowed ? 'block' : 'none';\n",
              "\n",
              "      async function convertToInteractive(key) {\n",
              "        const element = document.querySelector('#df-c8611d88-29a1-40cf-ae35-449d28b46063');\n",
              "        const dataTable =\n",
              "          await google.colab.kernel.invokeFunction('convertToInteractive',\n",
              "                                                    [key], {});\n",
              "        if (!dataTable) return;\n",
              "\n",
              "        const docLinkHtml = 'Like what you see? Visit the ' +\n",
              "          '<a target=\"_blank\" href=https://colab.research.google.com/notebooks/data_table.ipynb>data table notebook</a>'\n",
              "          + ' to learn more about interactive tables.';\n",
              "        element.innerHTML = '';\n",
              "        dataTable['output_type'] = 'display_data';\n",
              "        await google.colab.output.renderOutput(dataTable, element);\n",
              "        const docLink = document.createElement('div');\n",
              "        docLink.innerHTML = docLinkHtml;\n",
              "        element.appendChild(docLink);\n",
              "      }\n",
              "    </script>\n",
              "  </div>\n",
              "\n",
              "\n",
              "<div id=\"df-04fc2cde-6141-42f2-8f71-5cbf32e9d6c0\">\n",
              "  <button class=\"colab-df-quickchart\" onclick=\"quickchart('df-04fc2cde-6141-42f2-8f71-5cbf32e9d6c0')\"\n",
              "            title=\"Suggest charts\"\n",
              "            style=\"display:none;\">\n",
              "\n",
              "<svg xmlns=\"http://www.w3.org/2000/svg\" height=\"24px\"viewBox=\"0 0 24 24\"\n",
              "     width=\"24px\">\n",
              "    <g>\n",
              "        <path d=\"M19 3H5c-1.1 0-2 .9-2 2v14c0 1.1.9 2 2 2h14c1.1 0 2-.9 2-2V5c0-1.1-.9-2-2-2zM9 17H7v-7h2v7zm4 0h-2V7h2v10zm4 0h-2v-4h2v4z\"/>\n",
              "    </g>\n",
              "</svg>\n",
              "  </button>\n",
              "\n",
              "<style>\n",
              "  .colab-df-quickchart {\n",
              "      --bg-color: #E8F0FE;\n",
              "      --fill-color: #1967D2;\n",
              "      --hover-bg-color: #E2EBFA;\n",
              "      --hover-fill-color: #174EA6;\n",
              "      --disabled-fill-color: #AAA;\n",
              "      --disabled-bg-color: #DDD;\n",
              "  }\n",
              "\n",
              "  [theme=dark] .colab-df-quickchart {\n",
              "      --bg-color: #3B4455;\n",
              "      --fill-color: #D2E3FC;\n",
              "      --hover-bg-color: #434B5C;\n",
              "      --hover-fill-color: #FFFFFF;\n",
              "      --disabled-bg-color: #3B4455;\n",
              "      --disabled-fill-color: #666;\n",
              "  }\n",
              "\n",
              "  .colab-df-quickchart {\n",
              "    background-color: var(--bg-color);\n",
              "    border: none;\n",
              "    border-radius: 50%;\n",
              "    cursor: pointer;\n",
              "    display: none;\n",
              "    fill: var(--fill-color);\n",
              "    height: 32px;\n",
              "    padding: 0;\n",
              "    width: 32px;\n",
              "  }\n",
              "\n",
              "  .colab-df-quickchart:hover {\n",
              "    background-color: var(--hover-bg-color);\n",
              "    box-shadow: 0 1px 2px rgba(60, 64, 67, 0.3), 0 1px 3px 1px rgba(60, 64, 67, 0.15);\n",
              "    fill: var(--button-hover-fill-color);\n",
              "  }\n",
              "\n",
              "  .colab-df-quickchart-complete:disabled,\n",
              "  .colab-df-quickchart-complete:disabled:hover {\n",
              "    background-color: var(--disabled-bg-color);\n",
              "    fill: var(--disabled-fill-color);\n",
              "    box-shadow: none;\n",
              "  }\n",
              "\n",
              "  .colab-df-spinner {\n",
              "    border: 2px solid var(--fill-color);\n",
              "    border-color: transparent;\n",
              "    border-bottom-color: var(--fill-color);\n",
              "    animation:\n",
              "      spin 1s steps(1) infinite;\n",
              "  }\n",
              "\n",
              "  @keyframes spin {\n",
              "    0% {\n",
              "      border-color: transparent;\n",
              "      border-bottom-color: var(--fill-color);\n",
              "      border-left-color: var(--fill-color);\n",
              "    }\n",
              "    20% {\n",
              "      border-color: transparent;\n",
              "      border-left-color: var(--fill-color);\n",
              "      border-top-color: var(--fill-color);\n",
              "    }\n",
              "    30% {\n",
              "      border-color: transparent;\n",
              "      border-left-color: var(--fill-color);\n",
              "      border-top-color: var(--fill-color);\n",
              "      border-right-color: var(--fill-color);\n",
              "    }\n",
              "    40% {\n",
              "      border-color: transparent;\n",
              "      border-right-color: var(--fill-color);\n",
              "      border-top-color: var(--fill-color);\n",
              "    }\n",
              "    60% {\n",
              "      border-color: transparent;\n",
              "      border-right-color: var(--fill-color);\n",
              "    }\n",
              "    80% {\n",
              "      border-color: transparent;\n",
              "      border-right-color: var(--fill-color);\n",
              "      border-bottom-color: var(--fill-color);\n",
              "    }\n",
              "    90% {\n",
              "      border-color: transparent;\n",
              "      border-bottom-color: var(--fill-color);\n",
              "    }\n",
              "  }\n",
              "</style>\n",
              "\n",
              "  <script>\n",
              "    async function quickchart(key) {\n",
              "      const quickchartButtonEl =\n",
              "        document.querySelector('#' + key + ' button');\n",
              "      quickchartButtonEl.disabled = true;  // To prevent multiple clicks.\n",
              "      quickchartButtonEl.classList.add('colab-df-spinner');\n",
              "      try {\n",
              "        const charts = await google.colab.kernel.invokeFunction(\n",
              "            'suggestCharts', [key], {});\n",
              "      } catch (error) {\n",
              "        console.error('Error during call to suggestCharts:', error);\n",
              "      }\n",
              "      quickchartButtonEl.classList.remove('colab-df-spinner');\n",
              "      quickchartButtonEl.classList.add('colab-df-quickchart-complete');\n",
              "    }\n",
              "    (() => {\n",
              "      let quickchartButtonEl =\n",
              "        document.querySelector('#df-04fc2cde-6141-42f2-8f71-5cbf32e9d6c0 button');\n",
              "      quickchartButtonEl.style.display =\n",
              "        google.colab.kernel.accessAllowed ? 'block' : 'none';\n",
              "    })();\n",
              "  </script>\n",
              "</div>\n",
              "    </div>\n",
              "  </div>\n"
            ]
          },
          "metadata": {},
          "execution_count": 20
        }
      ]
    },
    {
      "cell_type": "code",
      "source": [
        "# Split the data into features (X) and labels (y)\n",
        "y = data.iloc[:, 1:].values\n",
        "X = data.iloc[:, 0].values\n",
        "\n",
        "# Split the data into training and testing sets\n",
        "X_train, X_test, y_train, y_test = train_test_split(X, y, test_size=0.2, random_state=42)\n",
        "\n",
        "print(X_train.shape)\n",
        "print(y_train.shape)"
      ],
      "metadata": {
        "id": "48ZVzMe-OKrd",
        "colab": {
          "base_uri": "https://localhost:8080/"
        },
        "outputId": "f1badad4-cd4d-441c-e62b-86a0380b7187"
      },
      "execution_count": 21,
      "outputs": [
        {
          "output_type": "stream",
          "name": "stdout",
          "text": [
            "(3504,)\n",
            "(3504, 1)\n"
          ]
        }
      ]
    },
    {
      "cell_type": "code",
      "source": [
        "X_train_df = pd.DataFrame(X_train, columns=[\"sequence\"])\n",
        "y_train_df = pd.DataFrame(y_train, columns=[\"class\"])\n",
        "merged_df = pd.concat([X_train_df, y_train_df], axis=1)\n",
        "\n",
        "print(merged_df)"
      ],
      "metadata": {
        "id": "Ok8T8PfEOQ2V",
        "colab": {
          "base_uri": "https://localhost:8080/"
        },
        "outputId": "52f40fe5-7284-4a4f-ecf5-fbe92e16d5ef"
      },
      "execution_count": 22,
      "outputs": [
        {
          "output_type": "stream",
          "name": "stdout",
          "text": [
            "                                               sequence  class\n",
            "0     ATGCATCACCAACAGCGAATGGCTGCCTTAGGGACGGACAAAGAGC...      6\n",
            "1     ATGACGAGGATTTTGACAGCTTTCAAAGTGGTGAGGACACTGAAGA...      4\n",
            "2     ATGAACGGAGAAGCCGACTGCCCCACAGACCTGGAAATGGCCGCCC...      6\n",
            "3     ATGGCGAACTATAGCCATGCAGCTGACAACATTTTGCAAAATCTCT...      0\n",
            "4     TTGGCTGACCTGATACCTAAGGAGCAGGCCAGAATTAAGACTTTCA...      4\n",
            "...                                                 ...    ...\n",
            "3499  ATGGCCTCAGAAGTGGTGTGCGGGCTCATCTTCAGGCTGCTGCTGC...      5\n",
            "3500  ATGCCGCCTCCTGGGAAAGTTCCCCGAAAGGAGAATCTGTGGCTAC...      6\n",
            "3501  ATGGAGGCCGCCGCCCAGTTCTTCGTCGAGAGCCCGGACGTGGTCT...      4\n",
            "3502  ATGGGACCAGAGGCCCTGTCATCTTTACTGCTGCTGCTCTTGGTGG...      1\n",
            "3503  ATGAAGCTGCGGCTCCCTGCCAGTCCCGAGACCCACCTGGACATGC...      1\n",
            "\n",
            "[3504 rows x 2 columns]\n"
          ]
        }
      ]
    },
    {
      "cell_type": "code",
      "source": [
        "#Make data augmentations by making random insertions in order to have more data for the training\n",
        "\n",
        "import random\n",
        "\n",
        "def perform_random_insertion(sequence, insertion_prob, possible_nucleotides):\n",
        "    augmented_sequence = sequence\n",
        "    for _ in range(len(sequence)):\n",
        "        if random.random() < insertion_prob:\n",
        "            insert_pos = random.randint(0, len(augmented_sequence))\n",
        "            insert_nucleotide = random.choice(possible_nucleotides)\n",
        "            augmented_sequence = augmented_sequence[:insert_pos] + insert_nucleotide + augmented_sequence[insert_pos:]\n",
        "    return augmented_sequence\n",
        "\n",
        "# Example usage\n",
        "insertion_prob = 0.1  # Insertion probability of 0.1 (10%)\n",
        "possible_nucleotides = ['A', 'T', 'G', 'C']  # Set of possible nucleotides for insertion\n",
        "\n",
        "# Assuming 'data' is a pandas DataFrame with a column 'sequence' containing DNA sequences\n",
        "augmented_data = merged_df.copy()\n",
        "augmented_data['augmented_sequence'] = augmented_data['sequence'].apply(\n",
        "    lambda seq: perform_random_insertion(seq, insertion_prob, possible_nucleotides)\n",
        ")\n",
        "\n",
        "augmented_data = augmented_data.sample(frac=0.1, random_state=42)\n",
        "\n",
        "# Reset the index of the DataFrame\n",
        "augmented_data = augmented_data.reset_index(drop=True)\n",
        "\n",
        "raw_sequences = merged_df\n",
        "augmented_sequences = augmented_data.drop('sequence', axis=1, inplace=True)\n",
        "augmented_data = augmented_data.rename(columns={'class': 'class', 'augmented_sequence': 'sequence'})\n",
        "print(augmented_data)\n",
        "\n",
        "augmented_data = augmented_data[['sequence', 'class']]\n",
        "print(augmented_data)\n",
        "print(data)"
      ],
      "metadata": {
        "id": "Si7GTXPbOUPR",
        "colab": {
          "base_uri": "https://localhost:8080/"
        },
        "outputId": "0f774336-2aaa-4920-9e2f-fe421592bd9a"
      },
      "execution_count": 23,
      "outputs": [
        {
          "output_type": "stream",
          "name": "stdout",
          "text": [
            "     class                                           sequence\n",
            "0        4  GTAAAAGTGGATCGCCTTCTAACGATGATCGCCCGGCTGGGCAAGG...\n",
            "1        1  ATGGATGTCTCTCTTTGCCTCAGGCCAAGTGTAGTTTCTGGCGGAT...\n",
            "2        6  ATTGGCCAACATGGCTGCTGCAGCACAGATTCACAGTCCACTCTTC...\n",
            "3        6  NNTCTGCCAACACAGCAACGCAGAAACTCAAGCAGGAGAACCTGAA...\n",
            "4        6  ATGACGACTGAATCCTCAAACCGAATTAAGTGCATTAAAGGTCAAG...\n",
            "..     ...                                                ...\n",
            "345      2  AATGCGGATGGTATACTGGAAGCCGTGTTGGTGGATTTTGTTCCTG...\n",
            "346      2  ATGAAACATAAGCAGAGACCCTAAATGCAGTAAACATGTTAGCTGG...\n",
            "347      2  AATGTGGACAGCCAGAGGCCCCTTCAGAAGAGACAGGTGGATGCAG...\n",
            "348      1  ATGGGGACCAGAGTGCCCTGTCATCTATTACTGCCTGCTGCTCTTG...\n",
            "349      3  ATGTCTTTACCCTGGCTGCGGACTGTGTGTCAGGATTTCTATGTTC...\n",
            "\n",
            "[350 rows x 2 columns]\n",
            "                                              sequence  class\n",
            "0    GTAAAAGTGGATCGCCTTCTAACGATGATCGCCCGGCTGGGCAAGG...      4\n",
            "1    ATGGATGTCTCTCTTTGCCTCAGGCCAAGTGTAGTTTCTGGCGGAT...      1\n",
            "2    ATTGGCCAACATGGCTGCTGCAGCACAGATTCACAGTCCACTCTTC...      6\n",
            "3    NNTCTGCCAACACAGCAACGCAGAAACTCAAGCAGGAGAACCTGAA...      6\n",
            "4    ATGACGACTGAATCCTCAAACCGAATTAAGTGCATTAAAGGTCAAG...      6\n",
            "..                                                 ...    ...\n",
            "345  AATGCGGATGGTATACTGGAAGCCGTGTTGGTGGATTTTGTTCCTG...      2\n",
            "346  ATGAAACATAAGCAGAGACCCTAAATGCAGTAAACATGTTAGCTGG...      2\n",
            "347  AATGTGGACAGCCAGAGGCCCCTTCAGAAGAGACAGGTGGATGCAG...      2\n",
            "348  ATGGGGACCAGAGTGCCCTGTCATCTATTACTGCCTGCTGCTCTTG...      1\n",
            "349  ATGTCTTTACCCTGGCTGCGGACTGTGTGTCAGGATTTCTATGTTC...      3\n",
            "\n",
            "[350 rows x 2 columns]\n",
            "                                               sequence  class\n",
            "0     ATGCCCCAACTAAATACTACCGTATGGCCCACCATAATTACCCCCA...      4\n",
            "1     ATGAACGAAAATCTGTTCGCTTCATTCATTGCCCCCACAATCCTAG...      4\n",
            "2     ATGTGTGGCATTTGGGCGCTGTTTGGCAGTGATGATTGCCTTTCTG...      3\n",
            "3     ATGTGTGGCATTTGGGCGCTGTTTGGCAGTGATGATTGCCTTTCTG...      3\n",
            "4     ATGCAACAGCATTTTGAATTTGAATACCAGACCAAAGTGGATGGTG...      3\n",
            "...                                                 ...    ...\n",
            "4375  ATGGAAGATTTGGAGGAAACATTATTTGAAGAATTTGAAAACTATT...      0\n",
            "4376  ATGCAGTCCTTTCGGGAGCAAAGCAGTTACCACGGAAACCAGCAAA...      6\n",
            "4377  ATGCAGTCCTTTCGGGAGCAAAGCAGTTACCACGGAAACCAGCAAA...      6\n",
            "4378  ATGGGGCACCTGGTTTGCTGTCTGTGTGGCAAGTGGGCCAGTTACC...      6\n",
            "4379  ATGCAGTCCTTTCGGGAGCAAAGCAGTTACCACGGAAACCAGCAAA...      6\n",
            "\n",
            "[4380 rows x 2 columns]\n"
          ]
        }
      ]
    },
    {
      "cell_type": "code",
      "source": [
        "y_train = data.iloc[:, 1:].values\n",
        "X_train = data.iloc[:, 0].values\n",
        "\n",
        "# Determine the maximum sequence length\n",
        "max_length_test = max(len(seq) for seq in X_test)\n",
        "\n",
        "max_length_train = max(len(seq) for seq in X_train)\n",
        "\n",
        "max_length = max(max_length_test, max_length_train)\n",
        "\n",
        "print(max_length)"
      ],
      "metadata": {
        "id": "_2CLuIt8PoQe",
        "colab": {
          "base_uri": "https://localhost:8080/"
        },
        "outputId": "edd9156e-2627-4ec5-fb37-dd8e02a678bd"
      },
      "execution_count": 24,
      "outputs": [
        {
          "output_type": "stream",
          "name": "stdout",
          "text": [
            "18921\n"
          ]
        }
      ]
    },
    {
      "cell_type": "code",
      "source": [
        "# Create a dictionary to map nucleotide bases to numerical values\n",
        "base_to_int = {'A': 0, 'C': 1, 'G': 2, 'T': 3, 'N':4}\n",
        "\n",
        "# Encode the DNA sequences for the testing and training sets\n",
        "X_test_encoded = []\n",
        "for seq1 in X_test:\n",
        "    encoded_seq = [base_to_int[base] for base in seq1]\n",
        "    X_test_encoded.append(encoded_seq)\n",
        "\n",
        "X_train_encoded = []\n",
        "for seq2 in X_train:\n",
        "    encoded_seq = [base_to_int[base] for base in seq2]\n",
        "    X_train_encoded.append(encoded_seq)\n",
        "\n",
        "\n",
        "# Pad or truncate sequences\n",
        "X_test_padded = pad_sequences(X_test_encoded, maxlen=max_length)\n",
        "X_train_padded = pad_sequences(X_train_encoded, maxlen=max_length)\n",
        "\n",
        "# Convert the encoded sequences to one-hot encoding\n",
        "X_test = to_categorical(X_test_padded)\n",
        "X_train = to_categorical(X_train_padded)"
      ],
      "metadata": {
        "id": "OeBVDwPdPuyG"
      },
      "execution_count": 25,
      "outputs": []
    },
    {
      "cell_type": "code",
      "source": [
        "# Reshape the input features\n",
        "X_train = X_train.reshape(-1, max_length, 5)\n",
        "X_test = X_test.reshape(-1, max_length, 5)"
      ],
      "metadata": {
        "id": "Wy1Z8q0HP-72"
      },
      "execution_count": 26,
      "outputs": []
    },
    {
      "cell_type": "code",
      "source": [
        "#Define the model\n",
        "model = keras.Sequential([\n",
        "    keras.layers.Conv1D(32, 5, activation='relu', input_shape=(max_length, 5)),\n",
        "    keras.layers.MaxPooling1D(3),\n",
        "    keras.layers.Conv1D(64, 10, activation='relu'),\n",
        "    keras.layers.MaxPooling1D(3),\n",
        "    keras.layers.Dropout(0.1),\n",
        "    keras.layers.Flatten(),\n",
        "    keras.layers.Dense(64, activation='relu'),\n",
        "    keras.layers.Dropout(0.1),\n",
        "    keras.layers.Dense(7, activation='softmax')\n",
        "])"
      ],
      "metadata": {
        "id": "P0y0d5eHQB4l"
      },
      "execution_count": 27,
      "outputs": []
    },
    {
      "cell_type": "code",
      "source": [
        "#Compile and validate(validation_data()) the model\n",
        "model.compile(optimizer='adam', loss='sparse_categorical_crossentropy', metrics=['accuracy'])\n",
        "\n",
        "history = model.fit(X_train, y_train, validation_data=(X_test, y_test), epochs=20, batch_size=32)"
      ],
      "metadata": {
        "id": "lAOcSFMpQRaN",
        "colab": {
          "base_uri": "https://localhost:8080/"
        },
        "outputId": "291fe549-db59-46df-87bf-2293c0434484"
      },
      "execution_count": 28,
      "outputs": [
        {
          "output_type": "stream",
          "name": "stdout",
          "text": [
            "Epoch 1/20\n",
            "137/137 [==============================] - 204s 1s/step - loss: 2.0230 - accuracy: 0.2676 - val_loss: 1.7757 - val_accuracy: 0.3185\n",
            "Epoch 2/20\n",
            "137/137 [==============================] - 186s 1s/step - loss: 1.7536 - accuracy: 0.3160 - val_loss: 1.6952 - val_accuracy: 0.3242\n",
            "Epoch 3/20\n",
            "137/137 [==============================] - 194s 1s/step - loss: 1.6774 - accuracy: 0.3249 - val_loss: 1.6108 - val_accuracy: 0.3516\n",
            "Epoch 4/20\n",
            "137/137 [==============================] - 193s 1s/step - loss: 1.6043 - accuracy: 0.3498 - val_loss: 1.5243 - val_accuracy: 0.3984\n",
            "Epoch 5/20\n",
            "137/137 [==============================] - 192s 1s/step - loss: 1.4865 - accuracy: 0.4025 - val_loss: 1.3791 - val_accuracy: 0.4600\n",
            "Epoch 6/20\n",
            "137/137 [==============================] - 190s 1s/step - loss: 1.3422 - accuracy: 0.4852 - val_loss: 1.2074 - val_accuracy: 0.5228\n",
            "Epoch 7/20\n",
            "137/137 [==============================] - 187s 1s/step - loss: 1.2133 - accuracy: 0.5406 - val_loss: 1.0856 - val_accuracy: 0.6313\n",
            "Epoch 8/20\n",
            "137/137 [==============================] - 189s 1s/step - loss: 1.0648 - accuracy: 0.5986 - val_loss: 0.9118 - val_accuracy: 0.6815\n",
            "Epoch 9/20\n",
            "137/137 [==============================] - 184s 1s/step - loss: 0.9508 - accuracy: 0.6500 - val_loss: 0.8105 - val_accuracy: 0.7135\n",
            "Epoch 10/20\n",
            "137/137 [==============================] - 185s 1s/step - loss: 0.8285 - accuracy: 0.7059 - val_loss: 0.6538 - val_accuracy: 0.7808\n",
            "Epoch 11/20\n",
            "137/137 [==============================] - 187s 1s/step - loss: 0.7472 - accuracy: 0.7320 - val_loss: 0.5973 - val_accuracy: 0.7968\n",
            "Epoch 12/20\n",
            "137/137 [==============================] - 186s 1s/step - loss: 0.6559 - accuracy: 0.7692 - val_loss: 0.4567 - val_accuracy: 0.8573\n",
            "Epoch 13/20\n",
            "137/137 [==============================] - 188s 1s/step - loss: 0.5642 - accuracy: 0.8011 - val_loss: 0.3989 - val_accuracy: 0.8938\n",
            "Epoch 14/20\n",
            "137/137 [==============================] - 186s 1s/step - loss: 0.4998 - accuracy: 0.8299 - val_loss: 0.3483 - val_accuracy: 0.8961\n",
            "Epoch 15/20\n",
            "137/137 [==============================] - 186s 1s/step - loss: 0.4343 - accuracy: 0.8550 - val_loss: 0.2626 - val_accuracy: 0.9247\n",
            "Epoch 16/20\n",
            "137/137 [==============================] - 188s 1s/step - loss: 0.3828 - accuracy: 0.8685 - val_loss: 0.2478 - val_accuracy: 0.9304\n",
            "Epoch 17/20\n",
            "137/137 [==============================] - 187s 1s/step - loss: 0.3450 - accuracy: 0.8824 - val_loss: 0.1899 - val_accuracy: 0.9578\n",
            "Epoch 18/20\n",
            "137/137 [==============================] - 186s 1s/step - loss: 0.2889 - accuracy: 0.9016 - val_loss: 0.1701 - val_accuracy: 0.9578\n",
            "Epoch 19/20\n",
            "137/137 [==============================] - 189s 1s/step - loss: 0.2751 - accuracy: 0.9048 - val_loss: 0.1372 - val_accuracy: 0.9680\n",
            "Epoch 20/20\n",
            "137/137 [==============================] - 192s 1s/step - loss: 0.2474 - accuracy: 0.9130 - val_loss: 0.1224 - val_accuracy: 0.9726\n"
          ]
        }
      ]
    },
    {
      "cell_type": "code",
      "source": [
        "print(history)\n",
        "plt.plot(history.history['accuracy'], label='accuracy')\n",
        "plt.plot(history.history['val_accuracy'], label = 'val_accuracy')\n",
        "plt.xlabel('Epoch')\n",
        "plt.ylabel('Accuracy')\n",
        "plt.ylim([0.5, 1])\n",
        "plt.legend(loc='lower right')\n",
        "loss, accuracy = model.evaluate(X_train, y_train, verbose=False)\n",
        "print(\"Training Accuracy: {:.4f}\".format(accuracy))\n",
        "loss, accuracy = model.evaluate(X_test, y_test, verbose=False)\n",
        "print(\"Testing Accuracy:  {:.4f}\".format(accuracy))"
      ],
      "metadata": {
        "id": "_q2118OUoLjW",
        "colab": {
          "base_uri": "https://localhost:8080/",
          "height": 515
        },
        "outputId": "66a1e3e5-b110-4e97-9da3-a8617ae94e64"
      },
      "execution_count": 29,
      "outputs": [
        {
          "output_type": "stream",
          "name": "stdout",
          "text": [
            "<keras.src.callbacks.History object at 0x791017741660>\n",
            "Training Accuracy: 0.9769\n",
            "Testing Accuracy:  0.9726\n"
          ]
        },
        {
          "output_type": "display_data",
          "data": {
            "text/plain": [
              "<Figure size 640x480 with 1 Axes>"
            ],
            "image/png": "[encoded data removed]"
          },
          "metadata": {}
        }
      ]
    },
    {
      "cell_type": "code",
      "source": [
        "# Make a prediction with the dog DNA sequence\n",
        "Predict_data = pd.read_table('/content/dog_data.txt')\n",
        "\n",
        "Predict_data_class = Predict_data.iloc[:, 1:].values\n",
        "Predict_data_Seq = Predict_data.iloc[:, 0].values\n",
        "\n",
        "\n",
        "Predict_data_Seq_encoded = []\n",
        "for seq4 in Predict_data_Seq:\n",
        "    Predict_data_Seq_encoded_seq = [base_to_int[base] for base in seq4]\n",
        "    Predict_data_Seq_encoded.append(Predict_data_Seq_encoded_seq)\n",
        "\n",
        "\n",
        "# Pad or truncate sequences\n",
        "Predict_data_Seq_padded = pad_sequences(Predict_data_Seq_encoded, maxlen=max_length)\n",
        "\n",
        "\n",
        "# Convert the encoded sequences to one-hot encoding\n",
        "Predict_data_Seq = to_categorical(Predict_data_Seq_padded)"
      ],
      "metadata": {
        "id": "hIq4bYcEooQw"
      },
      "execution_count": null,
      "outputs": []
    },
    {
      "cell_type": "code",
      "source": [
        "# Make predictions\n",
        "predictions = model.predict(Predict_data_Seq)\n",
        "predicted_classes = predictions.argmax(axis=1)\n"
      ],
      "metadata": {
        "id": "hzJvaiobo88U"
      },
      "execution_count": null,
      "outputs": []
    },
    {
      "cell_type": "code",
      "source": [
        "# Convert predicted_classes and Predict_data_class to numpy arrays\n",
        "predicted_classes_arr = np.array(predicted_classes)\n",
        "Predict_data_class_arr = np.array(Predict_data_class).flatten()\n",
        "\n",
        "# Calculate the percentage of common values\n",
        "percentage_common = np.mean(predicted_classes_arr == Predict_data_class_arr) * 100\n",
        "\n",
        "# Print the percentage\n",
        "print(\"Percentage of common values for Dog dataset: {:.2f}%\".format(percentage_common))"
      ],
      "metadata": {
        "id": "-kGNct15pDiZ"
      },
      "execution_count": null,
      "outputs": []
    },
    {
      "cell_type": "code",
      "source": [
        "Predict_data2 = pd.read_table('/content/chimp_data.txt')\n",
        "\n",
        "Predict_data_class2 = Predict_data2.iloc[:, 1:].values\n",
        "Predict_data_Seq2 = Predict_data2.iloc[:, 0].values\n",
        "\n",
        "\n",
        "Predict_data_Seq_encoded1 = []\n",
        "for seq5 in Predict_data_Seq2:\n",
        "    Predict_data_Seq_encoded_seq = [base_to_int[base] for base in seq5]\n",
        "    Predict_data_Seq_encoded1.append(Predict_data_Seq_encoded_seq)\n",
        "\n",
        "\n",
        "# Pad or truncate sequences\n",
        "Predict_data_Seq2_padded = pad_sequences(Predict_data_Seq_encoded1, maxlen=max_length)\n",
        "\n",
        "\n",
        "# Convert the encoded sequences to one-hot encoding\n",
        "Predict_data_Seq2 = to_categorical(Predict_data_Seq2_padded)"
      ],
      "metadata": {
        "id": "ZcMf9K6MpNpR"
      },
      "execution_count": null,
      "outputs": []
    },
    {
      "cell_type": "code",
      "source": [
        "# Make predictions\n",
        "predictions2 = model.predict(Predict_data_Seq2)\n",
        "predicted_classes2 = predictions2.argmax(axis=1)"
      ],
      "metadata": {
        "id": "5aypwtcsphnc"
      },
      "execution_count": null,
      "outputs": []
    },
    {
      "cell_type": "code",
      "source": [
        "# Convert predicted_classes and Predict_data_class to numpy arrays\n",
        "predicted_classes_arr = np.array(predicted_classes2)\n",
        "Predict_data_class_arr = np.array(Predict_data_class2).flatten()\n",
        "\n",
        "# Calculate the percentage of common values\n",
        "percentage_common = np.mean(predicted_classes_arr == Predict_data_class_arr) * 100\n",
        "\n",
        "# Print the percentage\n",
        "print(\"Percentage of common values for Chimp dataset: {:.2f}%\".format(percentage_common))"
      ],
      "metadata": {
        "id": "gKvvqHwupn3V"
      },
      "execution_count": null,
      "outputs": []
    }
  ],
  "metadata": {
    "colab": {
      "provenance": [],
      "include_colab_link": true
    },
    "kernelspec": {
      "display_name": "Python 3",
      "name": "python3"
    },
    "language_info": {
      "name": "python"
    }
  },
  "nbformat": 4,
  "nbformat_minor": 0
}